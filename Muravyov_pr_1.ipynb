{
 "cells": [
  {
   "cell_type": "markdown",
   "id": "df51c0d4-b29f-4dc3-bea4-708126bc78c7",
   "metadata": {},
   "source": [
    "Варіант 14"
   ]
  },
  {
   "cell_type": "code",
   "execution_count": 8,
   "id": "024dc598-f0f2-4645-a976-66a793de12ce",
   "metadata": {},
   "outputs": [],
   "source": [
    "import numpy as np"
   ]
  },
  {
   "cell_type": "markdown",
   "id": "d51624ac-03b8-4519-927f-0152fba03513",
   "metadata": {},
   "source": [
    "## Завдання 1"
   ]
  },
  {
   "cell_type": "markdown",
   "id": "8024b63e-519c-4aef-aa29-de6cc5f8da5f",
   "metadata": {},
   "source": [
    "Створіть одновимірний масив (вектор) із геометричною прогресією, де кожне наступне число менше попереднього в 3 рази, починаючи з 81, та виведіть його значення."
   ]
  },
  {
   "cell_type": "code",
   "execution_count": 18,
   "id": "e24e3bd8-0296-45ca-8571-4695ef028014",
   "metadata": {},
   "outputs": [
    {
     "data": {
      "text/plain": [
       "[81.0,\n",
       " 27.0,\n",
       " 9.0,\n",
       " 2.999999999999999,\n",
       " 0.9999999999999998,\n",
       " 0.3333333333333332,\n",
       " 0.11111111111111106,\n",
       " 0.03703703703703702,\n",
       " 0.012345679012345673,\n",
       " 0.004115226337448557]"
      ]
     },
     "execution_count": 18,
     "metadata": {},
     "output_type": "execute_result"
    }
   ],
   "source": [
    "first_value = 81\n",
    "ratio = 1/3\n",
    "num_elements = 10\n",
    "geom_progression = [first_value * (ratio ** i) for i in range(num_elements)]\n",
    "\n",
    "geom_progression\n"
   ]
  },
  {
   "cell_type": "markdown",
   "id": "ffb67e8f-bc7e-4b03-b5be-25aee41a1fbc",
   "metadata": {},
   "source": [
    "## Завдання 2"
   ]
  },
  {
   "cell_type": "markdown",
   "id": "0018aefc-e667-43d0-8d71-7a4d98cd2b57",
   "metadata": {},
   "source": [
    "Створіть двовимірний масив (матрицю) розміром 3x3, заповніть його оберненими значеннями дробових частин від ділення кожного числа на 2, починаючи з 1, та виведіть його значення."
   ]
  },
  {
   "cell_type": "code",
   "execution_count": 21,
   "id": "3cb88f94-bb28-479e-aacd-68a986ebd611",
   "metadata": {},
   "outputs": [
    {
     "data": {
      "text/plain": [
       "array([[2., 0., 2.],\n",
       "       [0., 2., 0.],\n",
       "       [2., 0., 2.]])"
      ]
     },
     "execution_count": 21,
     "metadata": {},
     "output_type": "execute_result"
    }
   ],
   "source": [
    "numbers = np.arange(1, 10)\n",
    "fractional_parts = numbers / 2 - np.floor(numbers / 2)\n",
    "# Заміна нульових значень на дуже мале значення, щоб уникнути ділення на нуль\n",
    "fractional_parts[fractional_parts == 0] = np.inf\n",
    "inverse_values = 1 / fractional_parts\n",
    "# Перетворюємо одновимірний масив у двовимірний розміром 3x3\n",
    "matrix = inverse_values.reshape(3, 3)\n",
    "\n",
    "matrix"
   ]
  },
  {
   "cell_type": "markdown",
   "id": "01886498-0909-440f-a94d-46be4f9f37bb",
   "metadata": {},
   "source": [
    "## Завдання 3"
   ]
  },
  {
   "cell_type": "markdown",
   "id": "e0db1d73-db41-4f96-9089-a34e1879020d",
   "metadata": {},
   "source": [
    "Створіть масив розміром 4x4, заповніть його випадковими натуральними числами від 1 до 10 і знайдіть мін елемент."
   ]
  },
  {
   "cell_type": "code",
   "execution_count": 45,
   "id": "2fd97a95-7c9a-4fbb-b84b-da98ef1d9433",
   "metadata": {},
   "outputs": [
    {
     "name": "stdout",
     "output_type": "stream",
     "text": [
      "   matrix\n",
      " [[ 8  1  3  9]\n",
      " [10  5  1  7]\n",
      " [ 9  4  2  3]\n",
      " [ 3  6 10 10]]\n",
      "мін. елемент: 1\n"
     ]
    }
   ],
   "source": [
    "matrix = np.random.randint(1, 11, size=(4, 4))\n",
    "min_element = np.min(matrix)\n",
    "\n",
    "print(f'   matrix\\n', matrix)\n",
    "print(f\"мін. елемент:\", min_element)\n"
   ]
  },
  {
   "cell_type": "markdown",
   "id": "9ff080e0-8096-48ec-a25f-c3e3ecbe9878",
   "metadata": {},
   "source": [
    "## Завдання 4"
   ]
  },
  {
   "cell_type": "markdown",
   "id": "f60ced9c-40f3-41d4-82c8-fc54a137361f",
   "metadata": {},
   "source": [
    "Створіть масив розміром 5x5, заповніть його випадковими дійсними числами в діапазоні від 0 до 1 та знайдіть середнє арифметичне елементів, розташованих на побічній діагоналі."
   ]
  },
  {
   "cell_type": "code",
   "execution_count": 61,
   "id": "bfd1229d-dfc0-4202-850d-f7ac6f705b18",
   "metadata": {},
   "outputs": [
    {
     "name": "stdout",
     "output_type": "stream",
     "text": [
      "   matrix \n",
      " [[0.6  0.97 0.9  0.48 0.97]\n",
      " [0.07 0.42 0.62 0.98 0.47]\n",
      " [0.42 0.08 0.63 0.61 0.6 ]\n",
      " [0.22 0.14 0.3  0.79 0.29]\n",
      " [0.72 0.6  0.95 0.97 0.3 ]]\n",
      "   anti diagonal \n",
      " [0.97 0.98 0.63 0.14 0.72]\n",
      "   mean \n",
      " 0.6878691443611608\n"
     ]
    }
   ],
   "source": [
    "matrix = np.random.rand(5, 5)\n",
    "anti_diagonal = np.fliplr(matrix).diagonal()\n",
    "mean_value = np.mean(anti_diagonal)\n",
    "\n",
    "print(f'   matrix \\n', matrix)\n",
    "print(f'   anti diagonal \\n', anti_diagonal)\n",
    "print(f'   mean \\n', mean_value)\n"
   ]
  },
  {
   "cell_type": "markdown",
   "id": "b83646cb-efbb-4d1d-b1ef-41cbb9cf913e",
   "metadata": {},
   "source": [
    "## Завдання 5"
   ]
  },
  {
   "cell_type": "markdown",
   "id": "60d2d94c-47cf-4bd7-9963-da499e69b5ab",
   "metadata": {},
   "source": [
    "Створіть два одновимірних масиви розміром 5, заповніть їх випадковими цілими числами в діапазоні від 1 до 20 та виконайте на них поелементні операції додавання, віднімання та множення."
   ]
  },
  {
   "cell_type": "code",
   "execution_count": 108,
   "id": "a793a294-dc99-4594-a1ba-8b5fba6fd89f",
   "metadata": {},
   "outputs": [
    {
     "name": "stdout",
     "output_type": "stream",
     "text": [
      "Array 1: [18 19  5  3 17]\n",
      "Array 2: [ 4  3 11 14 17]\n",
      "Addition: [22 22 16 17 34]\n",
      "Subtraction: [ 14  16  -6 -11   0]\n",
      "Multiplication: [ 72  57  55  42 289]\n"
     ]
    }
   ],
   "source": [
    "array1 = np.random.randint(1, 21, size=5)\n",
    "array2 = np.random.randint(1, 21, size=5)\n",
    "\n",
    "# Поелементні операції\n",
    "addition = array1 + array2\n",
    "subtraction = array1 - array2\n",
    "multiplication = array1 * array2\n",
    "\n",
    "print(\"Array 1:\", array1)\n",
    "print(\"Array 2:\", array2)\n",
    "print(\"Addition:\", addition)\n",
    "print(\"Subtraction:\", subtraction)\n",
    "print(\"Multiplication:\", multiplication)\n"
   ]
  },
  {
   "cell_type": "markdown",
   "id": "3b8d7ff0-c4da-4bcc-8db6-46b36bc02fdc",
   "metadata": {},
   "source": [
    "## Завдання 6"
   ]
  },
  {
   "cell_type": "markdown",
   "id": "4120c3da-c9aa-4916-98f0-92fd733579d3",
   "metadata": {},
   "source": [
    "Створіть дві матриці 3x3, заповніть їх довільними цілими числами від -5 до 5 та знайдіть їх добуток."
   ]
  },
  {
   "cell_type": "code",
   "execution_count": 109,
   "id": "58b99296-c1c6-44e0-9555-4695cfb4be40",
   "metadata": {},
   "outputs": [
    {
     "name": "stdout",
     "output_type": "stream",
     "text": [
      "Matrix 1:\n",
      " [[ 2  0  4]\n",
      " [-5  5 -3]\n",
      " [ 5  2 -3]]\n",
      "Matrix 2:\n",
      " [[ 4 -3 -2]\n",
      " [-2 -3 -2]\n",
      " [-1 -4 -3]]\n",
      "Product of Matrix 1 and Matrix 2:\n",
      " [[  4 -22 -16]\n",
      " [-27  12   9]\n",
      " [ 19  -9  -5]]\n"
     ]
    }
   ],
   "source": [
    "matrix1 = np.random.randint(-5, 6, size=(3, 3))\n",
    "matrix2 = np.random.randint(-5, 6, size=(3, 3))\n",
    "product = np.dot(matrix1, matrix2)\n",
    "\n",
    "print(\"Matrix 1:\\n\", matrix1)\n",
    "print(\"Matrix 2:\\n\", matrix2)\n",
    "print(\"Product of Matrix 1 and Matrix 2:\\n\", product)"
   ]
  },
  {
   "cell_type": "markdown",
   "id": "c2cf06e4-ac37-4fda-94b9-a3795f4ebe52",
   "metadata": {},
   "source": [
    "## Завдання 7"
   ]
  },
  {
   "cell_type": "markdown",
   "id": "4bc9d911-2f78-4354-8b6d-8d39be1275bd",
   "metadata": {},
   "source": [
    "Створіть дві матриці розміром 2x3 та 3x4, заповніть їх випадковими цілими числами в діапазоні від 1 до 5 та перемножте їх між собою."
   ]
  },
  {
   "cell_type": "code",
   "execution_count": 106,
   "id": "d7b1c387-3758-43ab-b2d7-31c85e5aa593",
   "metadata": {},
   "outputs": [
    {
     "name": "stdout",
     "output_type": "stream",
     "text": [
      "Matrix 1 (2x3):\n",
      " [[2 2 2]\n",
      " [2 4 4]]\n",
      "Matrix 2 (3x4):\n",
      " [[3 4 1 4]\n",
      " [5 2 3 5]\n",
      " [4 5 5 5]]\n",
      "Product of Matrix 1 and Matrix 2 (2x4):\n",
      " [[24 22 18 28]\n",
      " [42 36 34 48]]\n"
     ]
    }
   ],
   "source": [
    "matrix1 = np.random.randint(1, 6, size=(2, 3))\n",
    "matrix2 = np.random.randint(1, 6, size=(3, 4))\n",
    "\n",
    "product = np.dot(matrix1, matrix2)\n",
    "\n",
    "print(\"Matrix 1 (2x3):\\n\", matrix1)\n",
    "print(\"Matrix 2 (3x4):\\n\", matrix2)\n",
    "print(\"Product of Matrix 1 and Matrix 2 (2x4):\\n\", product)"
   ]
  },
  {
   "cell_type": "markdown",
   "id": "1650e333-883a-4056-b90f-9cc19b98b94d",
   "metadata": {},
   "source": [
    "## Завдання 8"
   ]
  },
  {
   "cell_type": "markdown",
   "id": "3067eaec-2735-4ecf-9135-8ffc40f286b2",
   "metadata": {},
   "source": [
    "Створіть матрицю розміром 3x3, заповніть її випадковими цілими числами в діапазоні від 1 до 10 та знайдіть її обернену матрицю"
   ]
  },
  {
   "cell_type": "code",
   "execution_count": 76,
   "id": "95bfc232-cc07-4bb3-bf2d-c3d05599fb83",
   "metadata": {},
   "outputs": [
    {
     "name": "stdout",
     "output_type": "stream",
     "text": [
      "Matrix:\n",
      "[[ 9  2  6]\n",
      " [10  9 10]\n",
      " [ 5  4  1]]\n",
      "Inverse matrix:\n",
      "[[ 0.14 -0.1   0.15]\n",
      " [-0.17  0.09  0.13]\n",
      " [ 0.02  0.11 -0.27]]\n"
     ]
    }
   ],
   "source": [
    "matrix = np.random.randint(1, 11, size = (3, 3))\n",
    "\n",
    "inverse_matrix = np.linalg.inv(matrix)\n",
    "\n",
    "print(f\"Matrix:\\n{matrix}\")\n",
    "print(f\"Inverse matrix:\\n{inverse_matrix}\")"
   ]
  },
  {
   "cell_type": "markdown",
   "id": "35e553ed-35a8-4c59-a92e-bdd9dbca29c1",
   "metadata": {},
   "source": [
    "## Завдання 9"
   ]
  },
  {
   "cell_type": "markdown",
   "id": "4a8e5e04-230a-47f5-9dbc-be2e0a945069",
   "metadata": {},
   "source": [
    "Створіть матрицю розміром 4x4, заповніть її випадковими дійсними числами в діапазоні від 0 до 1 та транспонуйте її."
   ]
  },
  {
   "cell_type": "code",
   "execution_count": 78,
   "id": "5caa0ff7-e0df-4e33-976e-fa1c85fd0a0c",
   "metadata": {},
   "outputs": [
    {
     "name": "stdout",
     "output_type": "stream",
     "text": [
      "Matrix:\n",
      "[[0.57 0.02 0.62 0.61]\n",
      " [0.62 0.94 0.68 0.36]\n",
      " [0.44 0.7  0.06 0.67]\n",
      " [0.67 0.21 0.13 0.32]]\n",
      "Transposed matrix:\n",
      "[[0.57 0.62 0.44 0.67]\n",
      " [0.02 0.94 0.7  0.21]\n",
      " [0.62 0.68 0.06 0.13]\n",
      " [0.61 0.36 0.67 0.32]]\n"
     ]
    }
   ],
   "source": [
    "matrix = np.random.uniform(0, 1, size = (4, 4))\n",
    "\n",
    "transposed_matrix = matrix.T\n",
    "\n",
    "print(f\"Matrix:\\n{matrix}\")\n",
    "print(f\"Transposed matrix:\\n{transposed_matrix}\")"
   ]
  },
  {
   "cell_type": "markdown",
   "id": "00508d3a-e4cf-477a-a7c8-c148578b7313",
   "metadata": {},
   "source": [
    "## Завдання 10"
   ]
  },
  {
   "cell_type": "markdown",
   "id": "8c75ace7-3918-4d5f-8426-d0aafc45f5fc",
   "metadata": {},
   "source": [
    "Створіть матрицю розміром 3x4 та вектор розміром 4x1, заповніть матрицю випадковими дійсними числами від 0 до 1, а вектор - випадковими дійсними числами від 0 до 1, і знайдіть добуток матриці на вектор."
   ]
  },
  {
   "cell_type": "code",
   "execution_count": 128,
   "id": "6b19cb22-cabf-4d81-aac1-edef4d21ab45",
   "metadata": {},
   "outputs": [
    {
     "name": "stdout",
     "output_type": "stream",
     "text": [
      "Matrix 3x4:\n",
      "[[0.85 0.5  0.43 0.82]\n",
      " [0.74 0.45 0.97 0.36]\n",
      " [0.4  0.74 0.45 0.94]]\n",
      "Vector 4x1:\n",
      "[[0]\n",
      " [0]\n",
      " [0]\n",
      " [0]]\n",
      "Matrix product by vector:\n",
      "[[0.]\n",
      " [0.]\n",
      " [0.]]\n"
     ]
    }
   ],
   "source": [
    "matrix = np.random.uniform(0, 1, size = (3, 4))\n",
    "vector = np.random.randint(0, 1, size = (4, 1))\n",
    "\n",
    "product_matrix_vector = np.dot(matrix, vector)\n",
    "\n",
    "print(f\"Matrix 3x4:\\n{matrix}\")\n",
    "print(f\"Vector 4x1:\\n{vector}\")\n",
    "print(f\"Matrix product by vector:\\n{product_matrix_vector}\")"
   ]
  },
  {
   "cell_type": "markdown",
   "id": "2b356c40-b321-4a34-832d-2b51ae846cd2",
   "metadata": {},
   "source": [
    "## Завдання 11"
   ]
  },
  {
   "cell_type": "markdown",
   "id": "a2338e48-07a5-4df9-b8df-d0dca1c04c5d",
   "metadata": {},
   "source": [
    "Створіть матрицю розміром 2x3 та вектор розміром 3x1, заповніть матрицю випадковими дійсними числами від 0 до 1, а вектор - випадковими цілими числами в діапазоні від 1 до 10, і знайдіть добуток матриці на вектор."
   ]
  },
  {
   "cell_type": "code",
   "execution_count": 100,
   "id": "ae7cb9dd-4389-4d0e-ba32-d8490e6f81c3",
   "metadata": {},
   "outputs": [
    {
     "name": "stdout",
     "output_type": "stream",
     "text": [
      "Matrix 2x3:\n",
      "[[0 0 0]\n",
      " [0 0 0]]\n",
      "Vector 3x1:\n",
      "[[10.77]\n",
      " [ 9.77]\n",
      " [ 4.38]]\n",
      "Matrix product by vector:\n",
      "[[0.]\n",
      " [0.]]\n"
     ]
    }
   ],
   "source": [
    "matrix = np.random.randint(0, 1, size = (2, 3))\n",
    "vector = np.random.uniform(1, 11, size = (3, 1))\n",
    "\n",
    "product_matrix_vector = np.dot(matrix, vector)\n",
    "\n",
    "print(f\"Matrix 2x3:\\n{matrix}\")\n",
    "print(f\"Vector 3x1:\\n{vector}\")\n",
    "print(f\"Matrix product by vector:\\n{product_matrix_vector}\")"
   ]
  },
  {
   "cell_type": "markdown",
   "id": "79d21597-f4b9-4fc0-8149-6623bf2712c5",
   "metadata": {},
   "source": [
    "## Завдання 12"
   ]
  },
  {
   "cell_type": "markdown",
   "id": "6b2f7926-0319-40e1-ad9a-4e4c52e5eb66",
   "metadata": {},
   "source": [
    "Створіть дві матриці розміром 7x7, заповніть їх випадковими цілими числами в діапазоні від 1 до 10 та знайдіть їхню різницю."
   ]
  },
  {
   "cell_type": "code",
   "execution_count": 112,
   "id": "5f19d8ef-79c8-4e2f-9c78-23d85f224640",
   "metadata": {},
   "outputs": [
    {
     "name": "stdout",
     "output_type": "stream",
     "text": [
      "Matrix 1 (7x7):\n",
      " [[ 5  2  4  4 10  3  6]\n",
      " [ 3  4  6  8  3  8  2]\n",
      " [ 7  6  1  1  4  2 10]\n",
      " [10  7  7  8  9  9  8]\n",
      " [ 1  9  7  9 10  9  4]\n",
      " [ 7  2  8  5 10  3  1]\n",
      " [ 9  3  8  9  5  5  2]]\n",
      "Matrix 2 (7x7):\n",
      " [[ 8  7 10  5  2  6 10]\n",
      " [ 8  2  4  6  8  4  7]\n",
      " [ 7  8 10  2 10  7  1]\n",
      " [ 4  9  5  2  5  6  1]\n",
      " [ 4  2  5  5  5  1  1]\n",
      " [ 9  5  7 10  4  4  3]\n",
      " [ 2  3  2  4  5  2  2]]\n",
      "(Matrix 1 - Matrix 2):\n",
      " [[-3 -5 -6 -1  8 -3 -4]\n",
      " [-5  2  2  2 -5  4 -5]\n",
      " [ 0 -2 -9 -1 -6 -5  9]\n",
      " [ 6 -2  2  6  4  3  7]\n",
      " [-3  7  2  4  5  8  3]\n",
      " [-2 -3  1 -5  6 -1 -2]\n",
      " [ 7  0  6  5  0  3  0]]\n"
     ]
    }
   ],
   "source": [
    "matrix1 = np.random.randint(1, 11, size=(7, 7))\n",
    "matrix2 = np.random.randint(1, 11, size=(7, 7))\n",
    "\n",
    "difference = matrix1 - matrix2\n",
    "\n",
    "print(\"Matrix 1 (7x7):\\n\", matrix1)\n",
    "print(\"Matrix 2 (7x7):\\n\", matrix2)\n",
    "print(\"(Matrix 1 - Matrix 2):\\n\", difference)"
   ]
  },
  {
   "cell_type": "markdown",
   "id": "a249cff5-7357-4fb3-b95e-5707550d35a3",
   "metadata": {},
   "source": [
    "## Завдання 13"
   ]
  },
  {
   "cell_type": "markdown",
   "id": "5c1de771-7100-400f-9ef8-aef8b7369a0b",
   "metadata": {},
   "source": [
    "Створіть дві матриці розміром 2x2, заповніть їх випадковими цілими числами в діапазоні від -5 до 5 та знайдіть суму їх елементів"
   ]
  },
  {
   "cell_type": "code",
   "execution_count": 116,
   "id": "42e3bc0e-df3c-4d9c-a50c-b3a6aa254e3b",
   "metadata": {},
   "outputs": [
    {
     "name": "stdout",
     "output_type": "stream",
     "text": [
      "Matrix 1:\n",
      "[[ 1 -1]\n",
      " [ 2 -2]]\n",
      " Matrix 2:\n",
      "[[ 0 -2]\n",
      " [ 1 -1]]\n",
      "Sum of all the elements of matrix 1:\n",
      "0\n",
      "Sum of all the elements of matrix 2:\n",
      "-2\n"
     ]
    }
   ],
   "source": [
    "matrix1 = np.random.randint(-5, 6, size = (2, 2))\n",
    "matrix2 = np.random.randint(-5, 6, size = (2, 2))\n",
    "\n",
    "sum_matrix1 = np.sum(matrix1)\n",
    "sum_matrix2 = np.sum(matrix2)\n",
    "\n",
    "print(f\"Matrix 1:\\n{matrix1}\\n Matrix 2:\\n{matrix2}\")\n",
    "print(f\"Sum of all the elements of matrix 1:\\n{sum_matrix1}\")\n",
    "print(f\"Sum of all the elements of matrix 2:\\n{sum_matrix2}\")"
   ]
  },
  {
   "cell_type": "markdown",
   "id": "a06d9e38-7e59-485e-b6b1-9acf1b716c67",
   "metadata": {},
   "source": [
    "## Завдання 14"
   ]
  },
  {
   "cell_type": "markdown",
   "id": "88897419-64ef-43ef-9e69-263cd773b231",
   "metadata": {},
   "source": [
    "Створіть матрицю розміром 3x3, заповніть її випадковими цілими числами в діапазоні від 1 до 10 та знайдіть добуток елементів матриці, які менше за їх середнє арифметичне значення."
   ]
  },
  {
   "cell_type": "code",
   "execution_count": 119,
   "id": "9f509068-f0e4-4e84-b7f6-aa3a9d93d151",
   "metadata": {},
   "outputs": [
    {
     "name": "stdout",
     "output_type": "stream",
     "text": [
      "Matrix (3x3):\n",
      " [[ 1  4  1]\n",
      " [ 4  7  2]\n",
      " [10  3 10]]\n",
      "Mean value of matrix elements: 4.666666666666667\n",
      "Elements less than mean value: [1 4 1 4 2 3]\n",
      "Product of elements less than mean value: 96\n"
     ]
    }
   ],
   "source": [
    "matrix = np.random.randint(1, 11, size=(3, 3))\n",
    "mean_value = np.mean(matrix)\n",
    "elements_less_than_mean = matrix[matrix < mean_value]\n",
    "prod = np.prod(elements_less_than_mean)\n",
    "print(\"Matrix (3x3):\\n\", matrix)\n",
    "print(\"Mean value of matrix elements:\", mean_value)\n",
    "print(\"Elements less than mean value:\", elements_less_than_mean)\n",
    "print(\"Product of elements less than mean value:\", prod)"
   ]
  },
  {
   "cell_type": "markdown",
   "id": "ec3cd8e1-9e62-4035-a3eb-c6de007bac25",
   "metadata": {},
   "source": [
    "## Завдання 15"
   ]
  },
  {
   "cell_type": "markdown",
   "id": "badecc5d-866e-436f-aea5-281255dd9aaa",
   "metadata": {},
   "source": [
    "Створіть матрицю розміром 3x3, заповніть її випадковими дійсними числами в діапазоні від -1 до 1 та знайдіть вектор-стовпчик, що містить найбільше ціле значення в кожному рядку матриці."
   ]
  },
  {
   "cell_type": "code",
   "execution_count": 124,
   "id": "118c8303-50ea-4fcf-a307-4ec7eb2a1e42",
   "metadata": {},
   "outputs": [
    {
     "name": "stdout",
     "output_type": "stream",
     "text": [
      "Matrix (3x3):\n",
      " [[ 0.9   0.87 -0.11]\n",
      " [ 0.46  0.48 -0.39]\n",
      " [-0.76 -0.11 -0.22]]\n",
      "Rounded Matrix (with integers):\n",
      " [[ 1  1  0]\n",
      " [ 0  0  0]\n",
      " [-1  0  0]]\n",
      "Vector Column with the largest integer in each row:\n",
      " [[1]\n",
      " [0]\n",
      " [0]]\n"
     ]
    }
   ],
   "source": [
    "matrix = np.random.uniform(-1, 1, size=(3, 3))\n",
    "round_matrix = np.round(matrix).astype(int)\n",
    "max_in_rows = np.max(round_matrix, axis=1)\n",
    "vector_column = max_in_rows.reshape(-1, 1)\n",
    "\n",
    "print(\"Matrix (3x3):\\n\", matrix)\n",
    "print(\"Rounded Matrix (with integers):\\n\", round_matrix)\n",
    "print(\"Vector Column with the largest integer in each row:\\n\", vector_column)"
   ]
  },
  {
   "cell_type": "markdown",
   "id": "7403360f-42bb-4e2f-a963-bdc2f7c39957",
   "metadata": {},
   "source": [
    "## Висновок"
   ]
  },
  {
   "cell_type": "markdown",
   "id": "40653e64-4c50-47f7-878b-f3f2e73bfaca",
   "metadata": {},
   "source": [
    "В лабораторній роботі було продемонстровано основні операції з матрицями та масивами у Python за допомогою бібліотеки NumPy, включаючи обчислення геометричних прогресій, роботу з дробовими частинами, математичні операції над матрицями та масивами, а також знаходження статистичних характеристик та обернених матриць."
   ]
  },
  {
   "cell_type": "code",
   "execution_count": null,
   "id": "913a6087-f58f-41f2-9883-eab2681ff536",
   "metadata": {},
   "outputs": [],
   "source": []
  }
 ],
 "metadata": {
  "kernelspec": {
   "display_name": "Python 3 (ipykernel)",
   "language": "python",
   "name": "python3"
  },
  "language_info": {
   "codemirror_mode": {
    "name": "ipython",
    "version": 3
   },
   "file_extension": ".py",
   "mimetype": "text/x-python",
   "name": "python",
   "nbconvert_exporter": "python",
   "pygments_lexer": "ipython3",
   "version": "3.11.6"
  }
 },
 "nbformat": 4,
 "nbformat_minor": 5
}
